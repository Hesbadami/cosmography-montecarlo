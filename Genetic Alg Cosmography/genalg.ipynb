{
 "cells": [
  {
   "cell_type": "code",
   "execution_count": 1,
   "id": "likely-lesbian",
   "metadata": {},
   "outputs": [],
   "source": [
    "import numpy as np\n",
    "import matplotlib.pyplot as plt"
   ]
  },
  {
   "cell_type": "code",
   "execution_count": 4,
   "id": "drawn-table",
   "metadata": {},
   "outputs": [],
   "source": [
    "data= np.genfromtxt('mock_pantheon.txt')\n",
    "z1= data[:,0]\n",
    "muu= data[:,1]\n",
    "error= data[:,2]"
   ]
  },
  {
   "cell_type": "code",
   "execution_count": 6,
   "id": "infrared-publication",
   "metadata": {},
   "outputs": [],
   "source": [
    "def E(z, param):\n",
    "    H1= 1 + param[0]\n",
    "    H2= -pow(param[0],2) + param[1]\n",
    "    H3= 3*pow(param[0],2)*(1+param[0]) - param[1]*(3+4*param[0]) - param[2]\n",
    "    H4= -3*pow(param[0],2)*(4+8*param[0]+5*pow(param[0],2)) + param[1]*(12+32*param[0]+25*pow(param[0],2)-4*param[1]) + param[2]*(8+7*param[0]) + param[3]\n",
    "\n",
    "    Q1= (-6*H1*H4 + 12*H2*H3)/(24*H1*H3 - 36*H2**2)\n",
    "    Q2= (3*H2*H4 - 4*H3**2)/(24*H1*H3 - 36*H2**2)\n",
    "    P0= 1\n",
    "    P1= H1 + Q1\n",
    "    P2= H2/2 + Q1*H1 + Q2\n",
    "\n",
    "    EE= (P0 + P1*z + P2*z**2)/(1 + Q1*z + Q2*z**2)\n",
    "    return 1/EE\n",
    "\n",
    "def mu(z, param):\n",
    "    muu= 5*np.log10((1+z)*quad(E, 0, z, args=param)[0])\n",
    "    return muu\n",
    "\n",
    "def xi2(param):\n",
    "    A= 0\n",
    "    B= 0\n",
    "    C= 0\n",
    "    for i in range(len(z1)):\n",
    "        A+= pow(mu(z1[i], param)-muu[i], 2)/pow(error[i], 2)\n",
    "        B+= (mu(z1[i], param)-muu[i])/pow(error[i], 2)\n",
    "        C+= 1/pow(error[i], 2)\n",
    "        x2= A- pow(B,2)/C\n",
    "    return x2\n",
    "\n",
    "def N (mean, sigma, lower, upper):\n",
    "    NN = truncnorm((lower - mean) / sigma, (upper - mean) / sigma, mean, sigma)\n",
    "    return NN"
   ]
  },
  {
   "cell_type": "code",
   "execution_count": 7,
   "id": "automated-trance",
   "metadata": {},
   "outputs": [],
   "source": [
    "#initial values\n",
    "sample_old0= -0.55\n",
    "sigma0= 0.01\n",
    "sample_old1= 1.5\n",
    "sigma1= 0.03\n",
    "sample_old2= -0.5\n",
    "sigma2= 0.05\n",
    "sample_old3= 3\n",
    "sigma3= 0.08\n",
    "X2_old=5000"
   ]
  },
  {
   "cell_type": "code",
   "execution_count": 8,
   "id": "enhanced-greene",
   "metadata": {},
   "outputs": [
    {
     "ename": "NameError",
     "evalue": "name 'truncnorm' is not defined",
     "output_type": "error",
     "traceback": [
      "\u001b[0;31m---------------------------------------------------------------------------\u001b[0m",
      "\u001b[0;31mNameError\u001b[0m                                 Traceback (most recent call last)",
      "\u001b[0;32m<ipython-input-8-05370785f6ad>\u001b[0m in \u001b[0;36m<module>\u001b[0;34m\u001b[0m\n\u001b[1;32m      1\u001b[0m \u001b[0mf\u001b[0m\u001b[0;34m=\u001b[0m \u001b[0mopen\u001b[0m \u001b[0;34m(\u001b[0m\u001b[0;34m\"pantheon_pade22.txt\"\u001b[0m\u001b[0;34m,\u001b[0m \u001b[0;34m\"w\"\u001b[0m\u001b[0;34m)\u001b[0m\u001b[0;34m\u001b[0m\u001b[0;34m\u001b[0m\u001b[0m\n\u001b[1;32m      2\u001b[0m \u001b[0;32mfor\u001b[0m \u001b[0mj\u001b[0m \u001b[0;32min\u001b[0m \u001b[0mrange\u001b[0m \u001b[0;34m(\u001b[0m\u001b[0;36m50000\u001b[0m\u001b[0;34m)\u001b[0m\u001b[0;34m:\u001b[0m\u001b[0;34m\u001b[0m\u001b[0;34m\u001b[0m\u001b[0m\n\u001b[0;32m----> 3\u001b[0;31m     \u001b[0mN0\u001b[0m\u001b[0;34m=\u001b[0m \u001b[0mN\u001b[0m \u001b[0;34m(\u001b[0m\u001b[0msample_old0\u001b[0m\u001b[0;34m,\u001b[0m \u001b[0msigma0\u001b[0m\u001b[0;34m,\u001b[0m \u001b[0;34m-\u001b[0m\u001b[0;36m1\u001b[0m\u001b[0;34m,\u001b[0m \u001b[0;36m0\u001b[0m\u001b[0;34m)\u001b[0m\u001b[0;34m.\u001b[0m\u001b[0mrvs\u001b[0m\u001b[0;34m(\u001b[0m\u001b[0;34m)\u001b[0m\u001b[0;34m\u001b[0m\u001b[0;34m\u001b[0m\u001b[0m\n\u001b[0m\u001b[1;32m      4\u001b[0m     \u001b[0mN1\u001b[0m\u001b[0;34m=\u001b[0m \u001b[0mN\u001b[0m \u001b[0;34m(\u001b[0m\u001b[0msample_old1\u001b[0m\u001b[0;34m,\u001b[0m \u001b[0msigma1\u001b[0m\u001b[0;34m,\u001b[0m \u001b[0;36m0\u001b[0m\u001b[0;34m,\u001b[0m \u001b[0;36m3\u001b[0m\u001b[0;34m)\u001b[0m\u001b[0;34m.\u001b[0m\u001b[0mrvs\u001b[0m\u001b[0;34m(\u001b[0m\u001b[0;34m)\u001b[0m\u001b[0;34m\u001b[0m\u001b[0;34m\u001b[0m\u001b[0m\n\u001b[1;32m      5\u001b[0m     \u001b[0mN2\u001b[0m\u001b[0;34m=\u001b[0m \u001b[0mN\u001b[0m \u001b[0;34m(\u001b[0m\u001b[0msample_old2\u001b[0m\u001b[0;34m,\u001b[0m \u001b[0msigma2\u001b[0m\u001b[0;34m,\u001b[0m \u001b[0;34m-\u001b[0m\u001b[0;36m2\u001b[0m\u001b[0;34m,\u001b[0m \u001b[0;36m3\u001b[0m\u001b[0;34m)\u001b[0m\u001b[0;34m.\u001b[0m\u001b[0mrvs\u001b[0m\u001b[0;34m(\u001b[0m\u001b[0;34m)\u001b[0m\u001b[0;34m\u001b[0m\u001b[0;34m\u001b[0m\u001b[0m\n",
      "\u001b[0;32m<ipython-input-6-61ff33111daa>\u001b[0m in \u001b[0;36mN\u001b[0;34m(mean, sigma, lower, upper)\u001b[0m\n\u001b[1;32m     30\u001b[0m \u001b[0;34m\u001b[0m\u001b[0m\n\u001b[1;32m     31\u001b[0m \u001b[0;32mdef\u001b[0m \u001b[0mN\u001b[0m \u001b[0;34m(\u001b[0m\u001b[0mmean\u001b[0m\u001b[0;34m,\u001b[0m \u001b[0msigma\u001b[0m\u001b[0;34m,\u001b[0m \u001b[0mlower\u001b[0m\u001b[0;34m,\u001b[0m \u001b[0mupper\u001b[0m\u001b[0;34m)\u001b[0m\u001b[0;34m:\u001b[0m\u001b[0;34m\u001b[0m\u001b[0;34m\u001b[0m\u001b[0m\n\u001b[0;32m---> 32\u001b[0;31m     \u001b[0mNN\u001b[0m \u001b[0;34m=\u001b[0m \u001b[0mtruncnorm\u001b[0m\u001b[0;34m(\u001b[0m\u001b[0;34m(\u001b[0m\u001b[0mlower\u001b[0m \u001b[0;34m-\u001b[0m \u001b[0mmean\u001b[0m\u001b[0;34m)\u001b[0m \u001b[0;34m/\u001b[0m \u001b[0msigma\u001b[0m\u001b[0;34m,\u001b[0m \u001b[0;34m(\u001b[0m\u001b[0mupper\u001b[0m \u001b[0;34m-\u001b[0m \u001b[0mmean\u001b[0m\u001b[0;34m)\u001b[0m \u001b[0;34m/\u001b[0m \u001b[0msigma\u001b[0m\u001b[0;34m,\u001b[0m \u001b[0mmean\u001b[0m\u001b[0;34m,\u001b[0m \u001b[0msigma\u001b[0m\u001b[0;34m)\u001b[0m\u001b[0;34m\u001b[0m\u001b[0;34m\u001b[0m\u001b[0m\n\u001b[0m\u001b[1;32m     33\u001b[0m     \u001b[0;32mreturn\u001b[0m \u001b[0mNN\u001b[0m\u001b[0;34m\u001b[0m\u001b[0;34m\u001b[0m\u001b[0m\n",
      "\u001b[0;31mNameError\u001b[0m: name 'truncnorm' is not defined"
     ]
    }
   ],
   "source": [
    "f= open (\"pantheon_pade22.txt\", \"w\")\n",
    "for j in range (50000):\n",
    "    N0= N (sample_old0, sigma0, -1, 0).rvs()\n",
    "    N1= N (sample_old1, sigma1, 0, 3).rvs()\n",
    "    N2= N (sample_old2, sigma2, -2, 3).rvs()\n",
    "    N3= N (sample_old3, sigma3, -2, 6).rvs()\n",
    "    param= [N0, N1, N2, N3]\n",
    "    X2_new= xi2(param)\n",
    "    u= np.random.rand ()\n",
    "    if u< min (1, np.exp (-(X2_new - X2_old)/2)):\n",
    "        sample_old0= N0\n",
    "        sample_old1= N1\n",
    "        sample_old2= N2\n",
    "        sample_old3= N3\n",
    "        X2_old= X2_new\n",
    "        f.write(str(1.0) + \"  \" + str(0.0) + \"  \" + str(sample_old0) + \"  \" + str(sample_old1) + \"  \" + str(sample_old2) + \"  \" + str(sample_old3) + \"  \" + str(X2_old) + \"\\n\")\n",
    "    else:\n",
    "        f.write(str(1.0) + \"  \" + str(0.0) + \"  \" + str(sample_old0) + \"  \" + str(sample_old1) + \"  \" + str(sample_old2) + \"  \" + str(sample_old3) + \"  \" + str(X2_old) + \"\\n\")\n",
    "    b= (j+1)%100\n",
    "    if b==0:\n",
    "        print(j+1)"
   ]
  },
  {
   "cell_type": "code",
   "execution_count": 9,
   "id": "refined-hotel",
   "metadata": {},
   "outputs": [
    {
     "data": {
      "text/plain": [
       "1048"
      ]
     },
     "execution_count": 9,
     "metadata": {},
     "output_type": "execute_result"
    }
   ],
   "source": [
    "len(data)"
   ]
  },
  {
   "cell_type": "code",
   "execution_count": null,
   "id": "sound-archives",
   "metadata": {},
   "outputs": [],
   "source": []
  }
 ],
 "metadata": {
  "kernelspec": {
   "display_name": "Python 3",
   "language": "python",
   "name": "python3"
  },
  "language_info": {
   "codemirror_mode": {
    "name": "ipython",
    "version": 3
   },
   "file_extension": ".py",
   "mimetype": "text/x-python",
   "name": "python",
   "nbconvert_exporter": "python",
   "pygments_lexer": "ipython3",
   "version": "3.9.5"
  }
 },
 "nbformat": 4,
 "nbformat_minor": 5
}
